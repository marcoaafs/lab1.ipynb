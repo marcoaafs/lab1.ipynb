{
 "cells": [
  {
   "cell_type": "markdown",
   "metadata": {},
   "source": [
    "# Lab 2: Bem-vindo ao Python"
   ]
  },
  {
   "cell_type": "markdown",
   "metadata": {},
   "source": [
    "## Visão Geral\n",
    "\n",
    "Bem-vindo ao seu primeiro laboratório! Os laboratórios são projetados para serem sua oportunidade de experimentar Python e ganhar experiência prática com a linguagem.\n",
    "\n",
    "O principal objetivo desse laboratório é garantir que a instalação do Python ocorra sem problemas e que não haja erros persistentes de instalação do Python por aí. Este laboratório também lhe dá a chance de escrever aqueles que podem ser seus primeiros programas em Python e permite que você experimente com ambos os scripts e com o interpretador interativo!\n",
    "\n",
    "Esses problemas não pretendem ser algoritmicamente desafiadores - apenas maneiras de exercitar seus conhecimentos de Python 3. Mesmo que os problemas pareçam simples, trabalhe com eles rapidamente, e então você está livre para ir.\n",
    "\n",
    "Você é bem-vindo para trabalhar em grupos ou individualmente. Lembre-se de se divertir! Faça amigos e talvez relaxe um pouco também.\n",
    "\n",
    "** Nota: Estes laboratórios são * projetados * para serem longos! Você não deve conseguir terminar todos os problemas em um período de aula. Trabalhe o máximo que puder no tempo previsto, mas sinta-se à vontade para pular de perguntas em perguntas livremente. Os problemas extras pretendem ser uma prática extra, se você quiser aprimorar ainda mais suas habilidades em Python. **\n",
    "\n",
    "Acima de tudo, divirta-se com o Python!"
   ]
  },
  {
   "cell_type": "markdown",
   "metadata": {},
   "source": [
    "### Executando o notebook\n",
    "\n",
    "Para rodar um notebook Jupyter, primeiro mude o diretório (`cd`) para onde quer que você tenha baixado o notebook. Então, a partir de uma linha de comando, execute:\n",
    "\n",
    "```bash\n",
    "$ source ~/cs41-env/bin/activate\n",
    "(cs41-env) $ jupyter lab\n",
    "```\n",
    "Você pode precisar executar `pip install jupyterlab` dentro de seu ambiente virtual se ainda não o fez."
   ]
  },
  {
   "cell_type": "markdown",
   "metadata": {},
   "source": [
    "## Zen of Python\n",
    "\n",
    "Execute a célula de código a seguir, selecionando a célula e pressionando Shift + Enter."
   ]
  },
  {
   "cell_type": "code",
   "execution_count": 94,
   "metadata": {},
   "outputs": [
    {
     "name": "stdout",
     "output_type": "stream",
     "text": [
      "The Zen of Python, by Tim Peters\n",
      "\n",
      "Beautiful is better than ugly.\n",
      "Explicit is better than implicit.\n",
      "Simple is better than complex.\n",
      "Complex is better than complicated.\n",
      "Flat is better than nested.\n",
      "Sparse is better than dense.\n",
      "Readability counts.\n",
      "Special cases aren't special enough to break the rules.\n",
      "Although practicality beats purity.\n",
      "Errors should never pass silently.\n",
      "Unless explicitly silenced.\n",
      "In the face of ambiguity, refuse the temptation to guess.\n",
      "There should be one-- and preferably only one --obvious way to do it.\n",
      "Although that way may not be obvious at first unless you're Dutch.\n",
      "Now is better than never.\n",
      "Although never is often better than *right* now.\n",
      "If the implementation is hard to explain, it's a bad idea.\n",
      "If the implementation is easy to explain, it may be a good idea.\n",
      "Namespaces are one honking great idea -- let's do more of those!\n"
     ]
    }
   ],
   "source": [
    "import this"
   ]
  },
  {
   "cell_type": "markdown",
   "metadata": {},
   "source": [
    "## Hello World\n",
    "\n",
    "Edite a célula a seguir para que ela imprima `\" Hello, world! \"` quando executada e, em seguida, execute a célula para confirmar."
   ]
  },
  {
   "cell_type": "code",
   "execution_count": 97,
   "metadata": {},
   "outputs": [
    {
     "name": "stdout",
     "output_type": "stream",
     "text": [
      "\" Hello, World! \"\n"
     ]
    }
   ],
   "source": [
    "# Edit me so that I print out \"Hello, world!\" when run!\n",
    "print('\" Hello, World! \"')"
   ]
  },
  {
   "cell_type": "markdown",
   "metadata": {},
   "source": [
    "## Aquecimento"
   ]
  },
  {
   "cell_type": "markdown",
   "metadata": {},
   "source": [
    "### Fizz, Buzz, FizzBuzz!\n",
    "Se listarmos todos os números naturais abaixo de 41 que são múltiplos de 3 ou 5, obtemos:\n",
    "\n",
    "```\n",
    " 3,  5,  6,  9, 10, 12, 15,\n",
    "18, 20, 21, 24, 25, 27, 30,\n",
    "33, 35, 36, 39, 40\n",
    "```\n",
    "\n",
    "A soma desses números é 408.\n",
    "\n",
    "Encontre a soma de todos os múltiplos de 3 ou 5 abaixo de 1001. Como teste de sanidade, os dois últimos dígitos da soma devem ser \"68\"."
   ]
  },
  {
   "cell_type": "code",
   "execution_count": 14,
   "metadata": {},
   "outputs": [
    {
     "name": "stdout",
     "output_type": "stream",
     "text": [
      "408\n",
      "234168\n"
     ]
    }
   ],
   "source": [
    "def fizzbuzz(n):\n",
    "    soma = 0\n",
    "    for multiplos in range(n):\n",
    "        if multiplos%3 == 0 or multiplos%5 == 0:\n",
    "            soma = soma + multiplos\n",
    "    return soma\n",
    "\n",
    "print(fizzbuzz(41))  # => 408\n",
    "print(fizzbuzz(1001))"
   ]
  },
  {
   "cell_type": "markdown",
   "metadata": {},
   "source": [
    "### Conjectura de Collatz\n",
    "\n",
    "A conjectura de * Collatz * é uma sequência iterativa definida nos inteiros positivos por:\n",
    "\n",
    "```\n",
    "n -> n / 2    se n é par\n",
    "n -> 3n + 1   se n é ímpar\n",
    "```\n",
    "\n",
    "Por exemplo, usando a regra acima e começando com 13 produzimos a sequência:\n",
    "\n",
    "```\n",
    "13 -> 40 -> 20 -> 10 -> 5 -> 16 -> 8 -> 4 -> 2 -> 1\n",
    "```\n",
    "\n",
    "Pode-se ver que esta sequência (a partir de 13 e terminando em 1) contém 10 termos. Embora não comprovado, a hipótese é que todos os números iniciais terminam em 1.\n",
    "\n",
    "Qual é o comprimento da cadeia mais longa que tem um número inicial abaixo de 1000?\n",
    "\n",
    "* NOTA: Uma vez que a cadeia comece, os termos podem ultrapassar mil. *\n",
    "\n",
    "Desafio: Mesma pergunta, mas para qualquer número inicial abaixo de 1.000.000. E quanto a qualquer número inicial abaixo de 10.000.000? Você pode precisar implementar um algoritmo mais inteligente do que ingênuo."
   ]
  },
  {
   "cell_type": "code",
   "execution_count": 100,
   "metadata": {},
   "outputs": [
    {
     "name": "stdout",
     "output_type": "stream",
     "text": [
      "Primeiro desafio:\n",
      "\n",
      "10\n",
      "10\n",
      "18\n",
      "\n",
      "Segundo desafio:\n",
      "\n",
      "179\n"
     ]
    }
   ],
   "source": [
    "def collatz_len(n):\n",
    "    \"\"\"Computes the length of the Collatz sequence starting at n.\"\"\"\n",
    "    limite = 1\n",
    "    while n > 1:\n",
    "        if n%2 == 0:\n",
    "            n = n / 2 \n",
    "        else:\n",
    "            n = (n * 3) + 1\n",
    "        limite = limite + 1 \n",
    "    return limite\n",
    "\n",
    "def max_collatz_len(n):\n",
    "    \"\"\"Computes the longest Collatz sequence length for starting numbers less than n\"\"\"\n",
    "    # return max(map(collatz_len, range(1, n)))\n",
    "    maximo = 0\n",
    "    for i in range(n):\n",
    "        final = 1\n",
    "        ver = i\n",
    "        while ver > 1:\n",
    "            if ver%2 == 0:\n",
    "                ver = ver / 2 \n",
    "            else:\n",
    "                ver = (ver * 3) + 1\n",
    "            final = final + 1 \n",
    "        if final > maximo:\n",
    "            maximo = final;\n",
    "    return maximo\n",
    "print('Primeiro desafio:\\n')\n",
    "print(collatz_len(12))  # => 10\n",
    "print(collatz_len(13))  # => 10\n",
    "print(collatz_len(14))  # => 10\n",
    "print('\\nSegundo desafio:\\n')\n",
    "print(max_collatz_len(1001))\n",
    "\n",
    "# Challenge: Only attempt to solve these if you feel very comfortable with this material.\n",
    "# print(max_collatz_len(1000000))\n",
    "# print(max_collatz_len(100000000))\n"
   ]
  },
  {
   "cell_type": "markdown",
   "metadata": {},
   "source": [
    "### Fahrenheit-to-Celsius converter\n",
    "\n",
    "Escreva um programa para converter graus Fahrenheit em graus Celsius (1) pedindo ao usuário um número (não necessariamente inteiro) representando a temperatura atual em graus Fahrenheit, (2) convertendo esse valor em graus Celsius equivalentes, e (3) imprimindo o valor equivalente final.\n",
    "\n",
    "Por exemplo, seu programa deve ser capaz de emular a seguinte amostra de execução:\n",
    "\n",
    "```\n",
    "Temperature F? 212\n",
    "It is 100.0 degrees Celsius.\n",
    "\n",
    "Temperature F? 98.6\n",
    "It is 37.0 degrees Celsius.\n",
    "\n",
    "Temperature F? 10\n",
    "It is -12.222222222222221 degrees Celsius.\n",
    "```\n",
    "\n",
    "Quer um desafio? Tente imprimir a temperatura final em duas casas decimais. Por exemplo, no último caso acima nós imprimiríamos `-12.22` ao invés de` -12.222222222222221`. * Dica: dê uma olhada na função [`round ()`] (https://docs.python.org/3/library/functions.html#round). Python não é ótimo?"
   ]
  },
  {
   "cell_type": "code",
   "execution_count": 65,
   "metadata": {},
   "outputs": [
    {
     "name": "stdout",
     "output_type": "stream",
     "text": [
      "It is 100.0 degrees Celsius!\n",
      "It is 212.0 degrees Fahrenheit!\n"
     ]
    }
   ],
   "source": [
    "def convert_fahr_to_cels(deg_fahr):\n",
    "    \"\"\"Convert a temperature given in degrees Fahrenheit to degrees Celcius.\"\"\"\n",
    "    deg_cel = (deg_fahr - 32)/1.8\n",
    "    return deg_cel\n",
    "    \n",
    "print('It is '+ str(convert_fahr_to_cels(212)) + ' degrees Celsius!')\n",
    "\n",
    "def convert_cels_to_fahr(deg_cels):\n",
    "    \"\"\"Convert a temperature given in degrees Fahrenheit to degrees Celcius.\"\"\"\n",
    "    deg_fahr = (deg_cels * 1.8) + 32\n",
    "    return deg_fahr\n",
    "\n",
    "print('It is ' + str(convert_cels_to_fahr(100)) + ' degrees Fahrenheit!')"
   ]
  },
  {
   "cell_type": "markdown",
   "metadata": {},
   "source": [
    "## Desafios Bônus\n",
    "\n",
    "Não se preocupe em fazer esses problemas de bônus. Na maioria dos casos, as perguntas bônus exigem que você pense de forma mais crítica ou use algoritmos mais avançados.\n",
    "\n",
    "Nesse caso, investigaremos formas avançadas de impressão e refletiremos sobre o design Python."
   ]
  },
  {
   "cell_type": "markdown",
   "metadata": {},
   "source": [
    "### Zen Printing\n",
    "\n",
    "Escreva um programa usando `print ()` que, quando executado, imprime o jogo da velha\n",
    "\n",
    "```\n",
    " X | . | . \n",
    "-----------\n",
    " . | O | . \n",
    "-----------\n",
    " . | O | X \n",
    "```\n",
    "\n",
    "Você pode encontrar os argumentos opcionais para `print ()` úteis, sobre os quais você pode ler [aqui] (https://docs.python.org/3/library/functions.html#print). Em não mais do que cinco minutos, tente usar esses argumentos opcionais para imprimir essa placa de jogo da velha."
   ]
  },
  {
   "cell_type": "code",
   "execution_count": 82,
   "metadata": {},
   "outputs": [
    {
     "name": "stdout",
     "output_type": "stream",
     "text": [
      "Jogo da Velha\n",
      "\n",
      " . | . | . \n",
      "-----------\n",
      " . | . | . \n",
      "-----------\n",
      " . | . | . \n",
      "\n",
      "\n",
      "None\n"
     ]
    }
   ],
   "source": [
    "def print_tictactoe():\n",
    "    \"\"\"Print out a specific partially-filled tic-tac-toe board.\"\"\"\n",
    "    tic = True\n",
    "    print('Jogo da Velha\\n')\n",
    "    for i in range(5):\n",
    "        if tic:\n",
    "            print(' . | . | . ')\n",
    "            tic = False\n",
    "        else:\n",
    "            print('-----------')\n",
    "            tic = True\n",
    "    print('\\n')\n",
    "print(print_tictactoe())"
   ]
  },
  {
   "cell_type": "code",
   "execution_count": 91,
   "metadata": {},
   "outputs": [
    {
     "name": "stdout",
     "output_type": "stream",
     "text": [
      "Jogo da Velha\n",
      "\n",
      "  |  |  H  |  |  H  |  |  \n",
      "--+--+--H--+--+--H--+--+--\n",
      "  |  |  H  |  |  H  |  |  \n",
      "--+--+--H--+--+--H--+--+--\n",
      "  |  |  H  |  |  H  |  |  \n",
      "========+========+========\n",
      "  |  |  H  |  |  H  |  |  \n",
      "--+--+--H--+--+--H--+--+--\n",
      "  |  |  H  |  |  H  |  |  \n",
      "--+--+--H--+--+--H--+--+--\n",
      "  |  |  H  |  |  H  |  |  \n",
      "========+========+========\n",
      "  |  |  H  |  |  H  |  |  \n",
      "--+--+--H--+--+--H--+--+--\n",
      "  |  |  H  |  |  H  |  |  \n",
      "--+--+--H--+--+--H--+--+--\n",
      "  |  |  H  |  |  H  |  |  \n",
      "\n",
      "\n",
      "None\n"
     ]
    }
   ],
   "source": [
    "def print_tictactoe():\n",
    "    \"\"\"Print out a specific partially-filled tic-tac-toe board.\"\"\"\n",
    "    tic = True\n",
    "    print('Jogo da Velha\\n')\n",
    "    for i in range(17):\n",
    "        if i == 5 or i == 11:\n",
    "            print('========+========+========')\n",
    "            tic = True\n",
    "        else:\n",
    "            if tic:\n",
    "                print('  |  |  H  |  |  H  |  |  ')\n",
    "                tic = False\n",
    "            else:\n",
    "                print('--+--+--H--+--+--H--+--+--')\n",
    "                tic = True\n",
    "    print('\\n')\n",
    "print(print_tictactoe())\n"
   ]
  },
  {
   "cell_type": "markdown",
   "metadata": {},
   "source": [
    "Talvez você tenha sido capaz de imprimir o tabuleiro do jogo da velha. Talvez não. No entanto, agora eu quero fazer o SUPER jogo da velha\n",
    "\n",
    "Escreva um programa que imprima uma placa SUPER jogo da velha\n",
    "\n",
    "```\n",
    "  |  |  H  |  |  H  |  |  \n",
    "--+--+--H--+--+--H--+--+--\n",
    "  |  |  H  |  |  H  |  |  \n",
    "--+--+--H--+--+--H--+--+--\n",
    "  |  |  H  |  |  H  |  |  \n",
    "========+========+========\n",
    "  |  |  H  |  |  H  |  |  \n",
    "--+--+--H--+--+--H--+--+--\n",
    "  |  |  H  |  |  H  |  |  \n",
    "--+--+--H--+--+--H--+--+--\n",
    "  |  |  H  |  |  H  |  |  \n",
    "========+========+========\n",
    "  |  |  H  |  |  H  |  |  \n",
    "--+--+--H--+--+--H--+--+--\n",
    "  |  |  H  |  |  H  |  |  \n",
    "--+--+--H--+--+--H--+--+--\n",
    "  |  |  H  |  |  H  |  |  \n",
    "```\n",
    "\n",
    "Você descobrirá que pode haver muitas maneiras de resolver esse problema. Qual você acha que é o mais 'pythônico'? Converse com alguém próximo a você sobre sua abordagem para esse problema. Lembre-se do Zen do Python!"
   ]
  },
  {
   "cell_type": "code",
   "execution_count": 1,
   "metadata": {},
   "outputs": [],
   "source": [
    "def print_super_tictactoe():\n",
    "    \"\"\"Print an empty SUPER tic-tac-toe board.\"\"\"\n",
    "    pass"
   ]
  },
  {
   "cell_type": "markdown",
   "metadata": {},
   "source": [
    "## Acabou cedo?\n",
    "\n",
    "Leia o [Guia de Estilo do Python] (https://www.python.org/dev/peps/pep-0008/), mantendo em mente o Zen do Python. De que maneira você percebe que as diretrizes de estilo do Python são influenciadas pela filosofia principal do Python? Algumas partes do guia de estilo abordam características de linguagem que ainda não foram abordadas em sala de aula - sinta-se à vontade para pular essas seções por enquanto."
   ]
  },
  {
   "cell_type": "markdown",
   "metadata": {},
   "source": [
    "## Créditos\n",
    "\n",
    "https://stanfordpython.com"
   ]
  }
 ],
 "metadata": {
  "kernelspec": {
   "display_name": "Python 3",
   "language": "python",
   "name": "python3"
  },
  "language_info": {
   "codemirror_mode": {
    "name": "ipython",
    "version": 3
   },
   "file_extension": ".py",
   "mimetype": "text/x-python",
   "name": "python",
   "nbconvert_exporter": "python",
   "pygments_lexer": "ipython3",
   "version": "3.6.4"
  }
 },
 "nbformat": 4,
 "nbformat_minor": 2
}
